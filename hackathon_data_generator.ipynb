{
 "cells": [
  {
   "cell_type": "code",
   "execution_count": 176,
   "id": "c61aab53-6c01-4bc5-ab2d-4bf0e5322c27",
   "metadata": {},
   "outputs": [],
   "source": [
    "import qutip as qt\n",
    "import numpy as np\n",
    "import random\n",
    "from tqdm import tqdm\n",
    "import matplotlib.pyplot as plt"
   ]
  },
  {
   "cell_type": "code",
   "execution_count": 177,
   "id": "502e9958-2bc7-457d-b79a-3e25d20b39db",
   "metadata": {},
   "outputs": [],
   "source": [
    "X = qt.tensor(qt.sigmax() ,qt.sigmax())  \n",
    "Y = qt.tensor(qt.sigmay() ,qt.sigmay())  \n",
    "Z = qt.tensor(qt.sigmaz() ,qt.sigmaz())  \n",
    "I = qt.tensor(qt.qeye(4) ,qt.qeye(4))  "
   ]
  },
  {
   "cell_type": "code",
   "execution_count": 178,
   "id": "b1650a62-9d06-41e8-940e-eb030383ba1a",
   "metadata": {},
   "outputs": [
    {
     "data": {
      "text/plain": [
       "np.float64(1.0)"
      ]
     },
     "execution_count": 178,
     "metadata": {},
     "output_type": "execute_result"
    }
   ],
   "source": [
    "bell = 1/np.sqrt(2)*(qt.basis(4,0) + qt.basis(4,3))\n",
    "p = 0\n",
    "rho = ((1-p)*qt.ket2dm(bell)) + (p*qt.qeye(4))\n",
    "rho.dims = [[2,2],[2,2]]\n",
    "negativity(pt(rho.full() , 0))"
   ]
  },
  {
   "cell_type": "code",
   "execution_count": null,
   "id": "a267076c-9408-46f0-a5ec-042a8e4340d1",
   "metadata": {},
   "outputs": [],
   "source": []
  },
  {
   "cell_type": "code",
   "execution_count": 179,
   "id": "493476ae-7d16-41ef-a2df-4e27735e0f5a",
   "metadata": {},
   "outputs": [],
   "source": [
    "def pt(d,i):\n",
    "  n = int(np.log2(d.shape[0]))\n",
    "  t = ((2,)*(n*2))\n",
    "  d1 = d.reshape(t).swapaxes(i,i+n)\n",
    "  return d1.reshape(2**n,2**n)\n",
    "\n",
    "def negativity(d):\n",
    "  eig = np.linalg.eig(d)[0]\n",
    "  return -2*(np.sum(eig,where = eig<0).real.round(5))"
   ]
  },
  {
   "cell_type": "markdown",
   "id": "b978b94e-ca2b-4d0a-a4d0-23edf167b0bd",
   "metadata": {},
   "source": [
    "# Highly entangled class"
   ]
  },
  {
   "cell_type": "code",
   "execution_count": 180,
   "id": "0a1b2a3f-1865-4529-980f-51ad6910f485",
   "metadata": {},
   "outputs": [
    {
     "data": {
      "text/plain": [
       "np.float64(0.7)"
      ]
     },
     "execution_count": 180,
     "metadata": {},
     "output_type": "execute_result"
    }
   ],
   "source": [
    "bell = 1/np.sqrt(2)*(qt.basis(4,0) + qt.basis(4,3))\n",
    "p = 0.1\n",
    "rho = ((1-p)*qt.ket2dm(bell)) + (p*qt.qeye(4))\n",
    "rho.dims = [[2,2],[2,2]]\n",
    "negativity(pt(rho.full() , 0))\n",
    "\n"
   ]
  },
  {
   "cell_type": "code",
   "execution_count": 181,
   "id": "28088c64-782a-4d7b-8c63-7d8499a00024",
   "metadata": {},
   "outputs": [
    {
     "data": {
      "text/plain": [
       "np.float64(0.75408)"
      ]
     },
     "execution_count": 181,
     "metadata": {},
     "output_type": "execute_result"
    }
   ],
   "source": [
    "bell1 = 1/np.sqrt(2)*(qt.basis(4,0) + qt.basis(4,3))\n",
    "bell2 = 1/np.sqrt(2)*(qt.basis(4,0) - qt.basis(4,3))\n",
    "bell3 = 1/np.sqrt(2)*(qt.basis(4,1) + qt.basis(4,2))\n",
    "bell4 = 1/np.sqrt(2)*(qt.basis(4,1) - qt.basis(4,2))\n",
    "\n",
    "num1 = 10\n",
    "num2 = random.random()\n",
    "num3 = random.random()\n",
    "num4 = random.random()\n",
    "summ = (num1 + num2 + num3 + num4)\n",
    "\n",
    "rho = (num1*qt.ket2dm(bell1) + num2*qt.ket2dm(bell2) + num3*qt.ket2dm(bell3) + num4*qt.ket2dm(bell4))/summ \n",
    "rho.dims = [[2,2],[2,2]]\n",
    "negativity(pt(rho.full() , 0))"
   ]
  },
  {
   "cell_type": "code",
   "execution_count": null,
   "id": "326750c6-95e7-4afc-ad8c-7bdbcd07f38b",
   "metadata": {},
   "outputs": [],
   "source": []
  },
  {
   "cell_type": "code",
   "execution_count": 182,
   "id": "cdc65069-cbd6-4712-9d28-e7c5861266be",
   "metadata": {},
   "outputs": [],
   "source": [
    "def rand_BD(fixed = 10):\n",
    "    choice = random.choice([1,2,3,4])\n",
    "    #fixed = 10\n",
    "    if(choice == 1):\n",
    "        num1 = fixed\n",
    "        num2 = random.random()\n",
    "        num3 = random.random()\n",
    "        num4 = random.random()\n",
    "        summ = (num1 + num2 + num3 + num4)\n",
    "    elif(choice == 2):\n",
    "        num1 = random.random()\n",
    "        num2 = fixed\n",
    "        num3 = random.random()\n",
    "        num4 = random.random()\n",
    "        summ = (num1 + num2 + num3 + num4)\n",
    "    elif(choice == 3):\n",
    "        num1 = random.random()\n",
    "        num2 = random.random()\n",
    "        num3 = fixed\n",
    "        num4 = random.random()\n",
    "        summ = (num1 + num2 + num3 + num4)\n",
    "    else:\n",
    "        num1 = random.random()\n",
    "        num2 = random.random()\n",
    "        num3 = random.random()\n",
    "        num4 = fixed\n",
    "        summ = (num1 + num2 + num3 + num4)\n",
    "\n",
    "\n",
    "    summ = (num1 + num2 + num3 + num4)\n",
    "    rho = (num1*qt.ket2dm(bell1) + num2*qt.ket2dm(bell2) + num3*qt.ket2dm(bell3) + num4*qt.ket2dm(bell4))/summ\n",
    "    rho1 = rho\n",
    "    rho1.dims = [[2,2],[2,2]]\n",
    "    neg = negativity(pt(rho1.full() , 0))\n",
    "    return rho , neg\n",
    "    "
   ]
  },
  {
   "cell_type": "code",
   "execution_count": 183,
   "id": "79e13745-1680-4576-b9f5-31b017bde77d",
   "metadata": {},
   "outputs": [
    {
     "name": "stderr",
     "output_type": "stream",
     "text": [
      "100%|██████████████████████████████████████████████████████████████████████████████| 100/100 [00:00<00:00, 2395.94it/s]\n",
      "100%|██████████████████████████████████████████████████████████████████████████████| 100/100 [00:00<00:00, 4977.81it/s]\n",
      "100%|██████████████████████████████████████████████████████████████████████████████| 100/100 [00:00<00:00, 2514.10it/s]\n",
      "100%|██████████████████████████████████████████████████████████████████████████████| 100/100 [00:00<00:00, 3940.27it/s]\n"
     ]
    }
   ],
   "source": [
    "med_rho_l = []\n",
    "med_neg_l = []\n",
    "for i in tqdm(range(100)):\n",
    "    rho , neg = rand_BD(5)\n",
    "    if neg >= 0.33 and neg <=0.66:\n",
    "        med_rho_l.append(rho)\n",
    "        med_neg_l.append(neg)\n",
    "\n",
    "high_rho_l = []\n",
    "high_neg_l = []\n",
    "for i in tqdm(range(100)):\n",
    "    rho , neg = rand_BD(12)\n",
    "    if neg >= 0.66 and neg <=1:\n",
    "        high_rho_l.append(rho)\n",
    "        high_neg_l.append(neg)\n",
    "\n",
    "low_rho_l = []\n",
    "low_neg_l = []\n",
    "for i in tqdm(range(100)):\n",
    "    rho , neg = rand_BD(2)\n",
    "    if neg >= 0.01 and neg <=0.33:\n",
    "        low_rho_l.append(rho)\n",
    "        low_neg_l.append(neg)\n",
    "\n",
    "sep_rho_l = []\n",
    "sep_neg_l = []\n",
    "for i in tqdm(range(100)):\n",
    "    rho , neg = rand_BD(random.random())\n",
    "    if neg == 0 :\n",
    "        sep_rho_l.append(rho)\n",
    "        sep_neg_l.append(neg)\n",
    "    \n",
    "    "
   ]
  },
  {
   "cell_type": "code",
   "execution_count": 184,
   "id": "b4c3e07d-9dea-4991-a2de-ab654cf23452",
   "metadata": {},
   "outputs": [
    {
     "name": "stderr",
     "output_type": "stream",
     "text": [
      "100%|██████████████████████████████████████████████████████████████████████████| 10000/10000 [00:01<00:00, 5639.31it/s]\n"
     ]
    }
   ],
   "source": [
    "full_list = []\n",
    "for i in tqdm(range(10000)):\n",
    "    num = random.random()\n",
    "    fix = random.choice([5 , 12 , 2 , num])\n",
    "    rho , neg = rand_BD(fix)\n",
    "    exp_x = (rho*X).tr()\n",
    "    exp_y = (rho*Y).tr()\n",
    "    exp_z = (rho*Z).tr()\n",
    "    if neg >= 0.33 and neg <=0.66:\n",
    "        label = 2\n",
    "    elif neg >= 0.01 and neg <=0.33:\n",
    "        label = 1\n",
    "    elif neg >= 0.66 and neg <=1:\n",
    "        label = 3\n",
    "    else:\n",
    "        label = 0\n",
    "    \n",
    "    full_list.append([rho.full() , label , exp_x , exp_y , exp_z])\n"
   ]
  },
  {
   "cell_type": "code",
   "execution_count": 185,
   "id": "58baed5b-1aa1-41ac-8456-56aaedb02b5e",
   "metadata": {},
   "outputs": [],
   "source": [
    "full_list_np = np.array(full_list, dtype=object)\n",
    "np.save('H:/hackathon/rho10000_2.npy', full_list_np)"
   ]
  },
  {
   "cell_type": "code",
   "execution_count": 1,
   "id": "8eef94f3-bb13-432c-9d9a-54677a9de955",
   "metadata": {},
   "outputs": [],
   "source": [
    "#ch = np.load('H:/hackathon/rho10000_2.npy' , allow_pickle=True)"
   ]
  },
  {
   "cell_type": "code",
   "execution_count": null,
   "id": "5396bd8e-990e-4e77-b6b9-92368ad020a9",
   "metadata": {},
   "outputs": [],
   "source": []
  },
  {
   "cell_type": "code",
   "execution_count": null,
   "id": "7c34efab-80f3-432f-ba7d-d61175da6514",
   "metadata": {},
   "outputs": [],
   "source": []
  }
 ],
 "metadata": {
  "kernelspec": {
   "display_name": "Python 3 (ipykernel)",
   "language": "python",
   "name": "python3"
  },
  "language_info": {
   "codemirror_mode": {
    "name": "ipython",
    "version": 3
   },
   "file_extension": ".py",
   "mimetype": "text/x-python",
   "name": "python",
   "nbconvert_exporter": "python",
   "pygments_lexer": "ipython3",
   "version": "3.12.3"
  }
 },
 "nbformat": 4,
 "nbformat_minor": 5
}
